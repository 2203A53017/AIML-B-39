{
  "nbformat": 4,
  "nbformat_minor": 0,
  "metadata": {
    "colab": {
      "provenance": [],
      "authorship_tag": "ABX9TyMxS4T3sqfMtln7T8uia+hF",
      "include_colab_link": true
    },
    "kernelspec": {
      "name": "python3",
      "display_name": "Python 3"
    },
    "language_info": {
      "name": "python"
    }
  },
  "cells": [
    {
      "cell_type": "markdown",
      "metadata": {
        "id": "view-in-github",
        "colab_type": "text"
      },
      "source": [
        "<a href=\"https://colab.research.google.com/github/2203A53017/AIML-B-39/blob/main/1_1_%26_1_2.ipynb\" target=\"_parent\"><img src=\"https://colab.research.google.com/assets/colab-badge.svg\" alt=\"Open In Colab\"/></a>"
      ]
    },
    {
      "cell_type": "code",
      "execution_count": null,
      "metadata": {
        "colab": {
          "base_uri": "https://localhost:8080/"
        },
        "id": "3uDpq3xYb7ZE",
        "outputId": "0a7c6964-4636-45f3-8b1f-23124ae0f422"
      },
      "outputs": [
        {
          "output_type": "stream",
          "name": "stdout",
          "text": [
            "list =  [1, 2, 3]\n",
            "array = [1 2 3]\n"
          ]
        }
      ],
      "source": [
        "import numpy as np\n",
        "list1 =[1,2,3]\n",
        "array1 = np.array(list1)\n",
        "print(\"list = \",list1)\n",
        "print(\"array =\",array1)"
      ]
    }
  ]
}