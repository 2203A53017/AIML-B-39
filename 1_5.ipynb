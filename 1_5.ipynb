{
  "nbformat": 4,
  "nbformat_minor": 0,
  "metadata": {
    "colab": {
      "provenance": [],
      "authorship_tag": "ABX9TyMl93sJhuclx5x7Lc86VvT5",
      "include_colab_link": true
    },
    "kernelspec": {
      "name": "python3",
      "display_name": "Python 3"
    },
    "language_info": {
      "name": "python"
    }
  },
  "cells": [
    {
      "cell_type": "markdown",
      "metadata": {
        "id": "view-in-github",
        "colab_type": "text"
      },
      "source": [
        "<a href=\"https://colab.research.google.com/github/2203A53017/AIML-B-39/blob/main/1_5.ipynb\" target=\"_parent\"><img src=\"https://colab.research.google.com/assets/colab-badge.svg\" alt=\"Open In Colab\"/></a>"
      ]
    },
    {
      "cell_type": "code",
      "execution_count": null,
      "metadata": {
        "colab": {
          "base_uri": "https://localhost:8080/"
        },
        "id": "dW8vEHstjwq4",
        "outputId": "fe4b1195-5621-4fa4-e0be-84b410a65698"
      },
      "outputs": [
        {
          "output_type": "stream",
          "name": "stdout",
          "text": [
            "Addition of two: [ 6  8 10 12]\n",
            "dimension of array3 is 1\n"
          ]
        }
      ],
      "source": [
        "import numpy as np\n",
        "list1=[1,2,3,4]\n",
        "array1=np.array(list1)\n",
        "list2=[5,6,7,8]\n",
        "array2=np.array(list2)\n",
        "array3=array1+array2\n",
        "print(\"Addition of two:\",array3)\n",
        "print(\"dimension of array3 is\",array3.ndim)"
      ]
    }
  ]
}